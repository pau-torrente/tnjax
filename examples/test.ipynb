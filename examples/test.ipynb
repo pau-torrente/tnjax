{
 "cells": [
  {
   "cell_type": "code",
   "execution_count": 1,
   "id": "ec6ebce4",
   "metadata": {},
   "outputs": [
    {
     "name": "stdout",
     "output_type": "stream",
     "text": [
      "Selected row indices: [471 551 410 955 137 829 633 788 220 399 510 173 373 853  74 816 486 774\n",
      " 830   4 539 172  87 386 655 617 427 916 791  97 624  16 927 824 360 240\n",
      " 352 974 610 598   6 101 375 549 741 147 988 432 495 122]\n",
      "D shape: (1000, 50)\n"
     ]
    }
   ],
   "source": [
    "import jax.numpy as jnp\n",
    "import jax\n",
    "from tnjax.tci.pivot_finders import maxvol\n",
    "\n",
    "# Large random matrix\n",
    "A = jnp.array(jax.random.normal(jax.random.PRNGKey(0), (1000, 50)))\n",
    "\n",
    "indices, D = maxvol(A, tol=1.05, max_iter=50)\n",
    "print(\"Selected row indices:\", indices)\n",
    "print(\"D shape:\", D.shape)"
   ]
  },
  {
   "cell_type": "code",
   "execution_count": null,
   "id": "966a9985",
   "metadata": {},
   "outputs": [],
   "source": []
  }
 ],
 "metadata": {
  "kernelspec": {
   "display_name": "jaxtn",
   "language": "python",
   "name": "python3"
  },
  "language_info": {
   "codemirror_mode": {
    "name": "ipython",
    "version": 3
   },
   "file_extension": ".py",
   "mimetype": "text/x-python",
   "name": "python",
   "nbconvert_exporter": "python",
   "pygments_lexer": "ipython3",
   "version": "3.13.9"
  }
 },
 "nbformat": 4,
 "nbformat_minor": 5
}
